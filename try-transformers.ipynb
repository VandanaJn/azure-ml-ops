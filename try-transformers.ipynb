{
 "cells": [
  {
   "cell_type": "code",
   "execution_count": null,
   "id": "f506c563",
   "metadata": {},
   "outputs": [],
   "source": [
    "from transformers import pipeline\n",
    "import torch\n",
    "\n",
    "generator = pipeline(\"text2text-generation\", model=\"t5-small\", framework=\"pt\")"
   ]
  },
  {
   "cell_type": "code",
   "execution_count": null,
   "id": "1c272842",
   "metadata": {},
   "outputs": [],
   "source": [
    "text = \"\"\"summarize: I am a senior software developer working in backend systems. \n",
    "I recently enrolled in Duke University's MLOps specialization on Coursera to deepen my knowledge of production-level machine learning. \n",
    "The course covers CI/CD pipelines, model monitoring, deployment to Azure ML, and scalable workflows.\"\"\"\n",
    "generator(text, max_new_tokens=100)\n"
   ]
  },
  {
   "cell_type": "code",
   "execution_count": null,
   "id": "9ea8ca90",
   "metadata": {},
   "outputs": [],
   "source": [
    "generator(\"translate English to Hindi: The house is wonderful.\", max_new_tokens=50)"
   ]
  },
  {
   "cell_type": "code",
   "execution_count": null,
   "id": "add68025",
   "metadata": {},
   "outputs": [],
   "source": [
    "text = \"\"\"ss2 sentence: I am a senior software developer working in backend systems. \n",
    "I recently enrolled in Duke University's MLOps specialization on Coursera to deepen my knowledge of production-level machine learning. \n",
    "The course covers CI/CD pipelines, model monitoring, deployment to Azure ML, and scalable workflows.\"\"\"\n",
    "generator(text, max_new_tokens=100)"
   ]
  },
  {
   "cell_type": "code",
   "execution_count": null,
   "id": "11f1df91",
   "metadata": {},
   "outputs": [],
   "source": [
    "generator(\"Question: Do yo know English?\")"
   ]
  },
  {
   "cell_type": "code",
   "execution_count": null,
   "id": "ae8ecefa",
   "metadata": {},
   "outputs": [],
   "source": [
    "gp2_generator=pipeline(\"text-generation\",model=\"gpt2\")"
   ]
  },
  {
   "cell_type": "code",
   "execution_count": null,
   "id": "76d55142",
   "metadata": {},
   "outputs": [],
   "source": [
    "gp2_generator(\"Once upon a time\")"
   ]
  },
  {
   "cell_type": "code",
   "execution_count": null,
   "id": "5a337650",
   "metadata": {},
   "outputs": [],
   "source": [
    "from transformers import pipeline\n",
    "\n",
    "classifier = pipeline(\"text-classification\", model=\"distilbert-base-uncased-finetuned-sst-2-english\")\n",
    "classifier(\"Vandana is building a smart AI agent that understands sales data.\")"
   ]
  }
 ],
 "metadata": {
  "kernelspec": {
   "display_name": ".venv",
   "language": "python",
   "name": "python3"
  },
  "language_info": {
   "codemirror_mode": {
    "name": "ipython",
    "version": 3
   },
   "file_extension": ".py",
   "mimetype": "text/x-python",
   "name": "python",
   "nbconvert_exporter": "python",
   "pygments_lexer": "ipython3",
   "version": "3.11.9"
  }
 },
 "nbformat": 4,
 "nbformat_minor": 5
}
