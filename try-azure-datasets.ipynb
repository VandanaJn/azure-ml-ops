{
 "cells": [
  {
   "cell_type": "code",
   "execution_count": null,
   "id": "6e298f3d",
   "metadata": {},
   "outputs": [],
   "source": [
    "from azureml.opendatasets import PublicHolidays\n",
    "\n",
    "from datetime import datetime\n",
    "from dateutil import parser\n",
    "from dateutil.relativedelta import relativedelta\n",
    "\n",
    "\n",
    "end_date = datetime.today()\n",
    "start_date = datetime.today() - relativedelta(months=1)\n",
    "hol = PublicHolidays(start_date=start_date, end_date=end_date)\n",
    "hol_df = hol.to_pandas_dataframe()\n",
    "hol_df"
   ]
  },
  {
   "cell_type": "code",
   "execution_count": null,
   "id": "5cfbbd95",
   "metadata": {},
   "outputs": [],
   "source": [
    "from azureml.opendatasets import Diabetes\n",
    "\n",
    "dib_df=Diabetes.get_tabular_dataset().to_pandas_dataframe()\n",
    "dib_df.head(5)"
   ]
  },
  {
   "cell_type": "code",
   "execution_count": null,
   "id": "6308927e",
   "metadata": {},
   "outputs": [],
   "source": [
    "dib_df[dib_df[\"AGE\"]<25].shape[0]"
   ]
  },
  {
   "cell_type": "code",
   "execution_count": null,
   "id": "d19de41f",
   "metadata": {},
   "outputs": [],
   "source": [
    "len(dib_df[dib_df[\"AGE\"]<25])"
   ]
  }
 ],
 "metadata": {
  "kernelspec": {
   "display_name": ".venv",
   "language": "python",
   "name": "python3"
  },
  "language_info": {
   "codemirror_mode": {
    "name": "ipython",
    "version": 3
   },
   "file_extension": ".py",
   "mimetype": "text/x-python",
   "name": "python",
   "nbconvert_exporter": "python",
   "pygments_lexer": "ipython3",
   "version": "3.11.9"
  }
 },
 "nbformat": 4,
 "nbformat_minor": 5
}
